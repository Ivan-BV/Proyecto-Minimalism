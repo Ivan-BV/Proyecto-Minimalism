{
 "cells": [
  {
   "cell_type": "markdown",
   "metadata": {},
   "source": [
    "# Scraping Rayban"
   ]
  },
  {
   "cell_type": "code",
   "execution_count": 2,
   "metadata": {},
   "outputs": [],
   "source": [
    "from bs4 import BeautifulSoup\n",
    "import requests\n",
    "import numpy as np\n",
    "import pandas as pd\n",
    "\n",
    "\n",
    "from time import sleep\n",
    "\n",
    "# Importar librerías para automatización de navegadores web con Selenium\n",
    "# -----------------------------------------------------------------------\n",
    "from selenium import webdriver  # Selenium es una herramienta para automatizar la interacción con navegadores web.\n",
    "from webdriver_manager.chrome import ChromeDriverManager  # ChromeDriverManager gestiona la instalación del controlador de Chrome.\n",
    "from selenium.webdriver.common.keys import Keys  # Keys es útil para simular eventos de teclado en Selenium.\n",
    "from selenium.webdriver.support.ui import Select  # Select se utiliza para interactuar con elementos <select> en páginas web.\n",
    "from selenium.webdriver.support.ui import WebDriverWait\n",
    "from selenium.webdriver.support import expected_conditions as EC\n",
    "from selenium.common.exceptions import NoSuchElementException # Excepciones comunes de selenium que nos podemos encontrar \n",
    "from selenium.webdriver.common.by import By\n",
    "\n",
    "\n",
    "import seaborn as sns\n",
    "import plotly.express as px  # type: ignore\n",
    "import plotly.graph_objects as go # type: ignore\n",
    "from plotly.subplots import make_subplots # type: ignore\n",
    "import warnings\n",
    "warnings.filterwarnings('ignore')\n",
    "\n"
   ]
  },
  {
   "cell_type": "code",
   "execution_count": 34,
   "metadata": {},
   "outputs": [],
   "source": [
    "driver = webdriver.Chrome()\n",
    "url_parafina = \"https://www.ray-ban.com/spain/gafas-de-sol/ver-todas\"\n",
    "driver.get(url_parafina)\n",
    "driver.maximize_window()\n",
    "sleep(6)\n",
    "\n",
    "# Cajamos un poco para que detecte el ratón\n",
    "driver.execute_script(\"window.scrollTo(0, 1000);\")\n",
    "sleep(3)\n",
    "\n",
    "# Cerramos el anuncio\n",
    "driver.find_element(\"css selector\", \"#rb-header-app > div.modal-wrapper.modal-wrapper--header.modal-wrapper--display > div.modal-content-wrapper > div > button\").click()\n",
    "sleep(2)\n",
    "\n",
    "# Cerramos las cookies\n",
    "driver.find_element(\"css selector\", \"#consent_prompt_submitNo\").click()\n",
    "sleep(2)\n",
    "\n",
    "\n",
    "# Bajamos hasta abajo para cargar más productos\n",
    "driver.execute_script(\"window.scrollTo(0, 5500);\")\n",
    "sleep(4)\n",
    "\n",
    "# pinchamos para cargar más\n",
    "driver.find_element(\"css selector\", \"body > div.rb-app__main.static-header.loaded.rb-app__header--static > div > div.rb-load-more > button\").click()\n",
    "sleep(2)\n",
    "\n",
    "for i in range(20):\n",
    "\n",
    "    try:\n",
    "    # Bajamos hasta abajo para cargar más productos\n",
    "        driver.execute_script(\"window.scrollTo(0, 6000);\")\n",
    "        sleep(4)\n",
    "\n",
    "        # pinchamos para cargar más\n",
    "        driver.find_element(\"css selector\", \"body > div.rb-app__main.static-header.loaded.rb-app__header--static > div > div.rb-load-more > button\").click()\n",
    "        sleep(2)\n",
    "        \n",
    "    except:\n",
    "        break\n",
    "\n",
    "\n",
    "html_table_page = driver.page_source\n",
    "\n"
   ]
  },
  {
   "cell_type": "code",
   "execution_count": 48,
   "metadata": {},
   "outputs": [],
   "source": [
    "sopa = BeautifulSoup(html_table_page, \"html.parser\")\n",
    "elementos_gafas = sopa.find(\"div\", {\"class\":\"rb-products grid\"})\n",
    "lista_gafas = elementos_gafas.findAll(\"div\", {\"class\":\"rb-product-tile\"})\n",
    "\n",
    "dic_gafas = {\n",
    "    \"titulo\":[],\n",
    "    \"precio\":[]\n",
    "}\n",
    "\n",
    "for gafa in lista_gafas:\n",
    "    div_titulo = gafa.find(\"div\", {\"class\":\"rb-product-tile__content\"})\n",
    "    \n",
    "    titulo = div_titulo.find(\"h2\").text.strip()\n",
    "    precio = div_titulo.find(\"div\", {\"class\":\"rb-product-tile__price-container\"}).text.split()[1].replace(\",\",\".\")\n",
    "    \n",
    "    dic_gafas[\"titulo\"].append(titulo)\n",
    "    dic_gafas[\"precio\"].append(precio)\n",
    "    \n"
   ]
  },
  {
   "cell_type": "code",
   "execution_count": 54,
   "metadata": {},
   "outputs": [],
   "source": [
    "df_rayban = pd.DataFrame(dic_gafas)\n",
    "df_rayban[\"precio\"] = df_rayban[\"precio\"].astype(float)\n",
    "df_rayban.to_csv(\"../datos/df_rayban.csv\")"
   ]
  },
  {
   "cell_type": "code",
   "execution_count": 55,
   "metadata": {},
   "outputs": [
    {
     "data": {
      "text/html": [
       "<div>\n",
       "<style scoped>\n",
       "    .dataframe tbody tr th:only-of-type {\n",
       "        vertical-align: middle;\n",
       "    }\n",
       "\n",
       "    .dataframe tbody tr th {\n",
       "        vertical-align: top;\n",
       "    }\n",
       "\n",
       "    .dataframe thead th {\n",
       "        text-align: right;\n",
       "    }\n",
       "</style>\n",
       "<table border=\"1\" class=\"dataframe\">\n",
       "  <thead>\n",
       "    <tr style=\"text-align: right;\">\n",
       "      <th></th>\n",
       "      <th>titulo</th>\n",
       "      <th>precio</th>\n",
       "    </tr>\n",
       "  </thead>\n",
       "  <tbody>\n",
       "    <tr>\n",
       "      <th>0</th>\n",
       "      <td>RB4441D BIO-BASED</td>\n",
       "      <td>137.0</td>\n",
       "    </tr>\n",
       "    <tr>\n",
       "      <th>1</th>\n",
       "      <td>ORIGINAL WAYFARER CLASSIC</td>\n",
       "      <td>163.0</td>\n",
       "    </tr>\n",
       "    <tr>\n",
       "      <th>2</th>\n",
       "      <td>MEGA BALORAMA</td>\n",
       "      <td>173.0</td>\n",
       "    </tr>\n",
       "    <tr>\n",
       "      <th>3</th>\n",
       "      <td>NEW WAYFARER CLASSIC</td>\n",
       "      <td>202.0</td>\n",
       "    </tr>\n",
       "    <tr>\n",
       "      <th>4</th>\n",
       "      <td>AVIATOR CLASSIC</td>\n",
       "      <td>163.0</td>\n",
       "    </tr>\n",
       "  </tbody>\n",
       "</table>\n",
       "</div>"
      ],
      "text/plain": [
       "                      titulo  precio\n",
       "0          RB4441D BIO-BASED   137.0\n",
       "1  ORIGINAL WAYFARER CLASSIC   163.0\n",
       "2              MEGA BALORAMA   173.0\n",
       "3       NEW WAYFARER CLASSIC   202.0\n",
       "4            AVIATOR CLASSIC   163.0"
      ]
     },
     "execution_count": 55,
     "metadata": {},
     "output_type": "execute_result"
    }
   ],
   "source": [
    "df_rayban.head()"
   ]
  },
  {
   "cell_type": "code",
   "execution_count": 56,
   "metadata": {},
   "outputs": [
    {
     "data": {
      "text/html": [
       "<div>\n",
       "<style scoped>\n",
       "    .dataframe tbody tr th:only-of-type {\n",
       "        vertical-align: middle;\n",
       "    }\n",
       "\n",
       "    .dataframe tbody tr th {\n",
       "        vertical-align: top;\n",
       "    }\n",
       "\n",
       "    .dataframe thead th {\n",
       "        text-align: right;\n",
       "    }\n",
       "</style>\n",
       "<table border=\"1\" class=\"dataframe\">\n",
       "  <thead>\n",
       "    <tr style=\"text-align: right;\">\n",
       "      <th></th>\n",
       "      <th>count</th>\n",
       "      <th>mean</th>\n",
       "      <th>std</th>\n",
       "      <th>min</th>\n",
       "      <th>25%</th>\n",
       "      <th>50%</th>\n",
       "      <th>75%</th>\n",
       "      <th>max</th>\n",
       "    </tr>\n",
       "  </thead>\n",
       "  <tbody>\n",
       "    <tr>\n",
       "      <th>precio</th>\n",
       "      <td>483.0</td>\n",
       "      <td>195.819876</td>\n",
       "      <td>56.337221</td>\n",
       "      <td>125.0</td>\n",
       "      <td>163.0</td>\n",
       "      <td>175.0</td>\n",
       "      <td>223.0</td>\n",
       "      <td>548.0</td>\n",
       "    </tr>\n",
       "  </tbody>\n",
       "</table>\n",
       "</div>"
      ],
      "text/plain": [
       "        count        mean        std    min    25%    50%    75%    max\n",
       "precio  483.0  195.819876  56.337221  125.0  163.0  175.0  223.0  548.0"
      ]
     },
     "execution_count": 56,
     "metadata": {},
     "output_type": "execute_result"
    }
   ],
   "source": [
    "df_rayban.describe().T"
   ]
  },
  {
   "cell_type": "code",
   "execution_count": null,
   "metadata": {},
   "outputs": [],
   "source": []
  }
 ],
 "metadata": {
  "kernelspec": {
   "display_name": "Python 3",
   "language": "python",
   "name": "python3"
  },
  "language_info": {
   "codemirror_mode": {
    "name": "ipython",
    "version": 3
   },
   "file_extension": ".py",
   "mimetype": "text/x-python",
   "name": "python",
   "nbconvert_exporter": "python",
   "pygments_lexer": "ipython3",
   "version": "3.11.9"
  }
 },
 "nbformat": 4,
 "nbformat_minor": 2
}
