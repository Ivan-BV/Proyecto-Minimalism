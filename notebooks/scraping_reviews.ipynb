{
 "cells": [
  {
   "cell_type": "code",
   "execution_count": 30,
   "metadata": {},
   "outputs": [],
   "source": [
    "# Importamos las librerías que necesitamos\n",
    "\n",
    "# Librerías de extracción de datos\n",
    "# -----------------------------------------------------------------------\n",
    "\n",
    "# Importaciones:\n",
    "# Beautifulsoup\n",
    "from bs4 import BeautifulSoup\n",
    "\n",
    "# Requests\n",
    "import requests\n",
    "\n",
    "import pandas as pd\n",
    "import numpy as np\n",
    "\n",
    "from time import sleep\n",
    "\n",
    "# Importar librerías para automatización de navegadores web con Selenium\n",
    "# -----------------------------------------------------------------------\n",
    "from selenium import webdriver  # Selenium es una herramienta para automatizar la interacción con navegadores web.\n",
    "from webdriver_manager.chrome import ChromeDriverManager  # ChromeDriverManager gestiona la instalación del controlador de Chrome.\n",
    "from selenium.webdriver.common.keys import Keys  # Keys es útil para simular eventos de teclado en Selenium.\n",
    "from selenium.webdriver.support.ui import Select  # Select se utiliza para interactuar con elementos <select> en páginas web.\n",
    "from selenium.webdriver.support.ui import WebDriverWait\n",
    "from selenium.webdriver.support import expected_conditions as EC\n",
    "from selenium.common.exceptions import NoSuchElementException # Excepciones comunes de selenium que nos podemos encontrar \n",
    "from selenium.webdriver.common.by import By"
   ]
  },
  {
   "cell_type": "code",
   "execution_count": 28,
   "metadata": {},
   "outputs": [],
   "source": [
    "# url = \"https://www.google.com/search?sca_esv=fa65bd0a363ad061&rlz=1C1ONGR_esES972ES972&tbm=lcl&sxsrf=ADLYWIJU0vsXxB_LbbnS1qBwmMSie5B69w:1730990879393&q=Parafina+-+Gafas+Ecol%C3%B3gicas+Reviews&rflfq=1&num=20&stick=H4sIAAAAAAAAAONgkxIxNDSwNDaxNDQ1M7YwNTczsjQzsNjAyPiKUSUgsSgxLTMvUUFXwT0xLbFYwTU5P-fw5vTMZCA7KLUsM7W8eBErUcoAy-vpg2kAAAA&rldimm=11093491563857629608&hl=en-ES&sa=X&ved=2ahUKEwjzxubDu8qJAxXQUqQEHQt2LJcQ9fQKegQIQBAF&biw=1536&bih=695&dpr=1.25#lkt=LocalPoiReviews&topic=mid:/m/01d_1l\"\n",
    "\n",
    "# res = requests.get(url)\n",
    "# print(res.status_code)\n",
    "# sopa = BeautifulSoup(res.content, \"html.parser\")\n",
    "# sopa\n"
   ]
  },
  {
   "cell_type": "code",
   "execution_count": 41,
   "metadata": {},
   "outputs": [
    {
     "ename": "NoSuchElementException",
     "evalue": "Message: no such element: Unable to locate element: {\"method\":\"css selector\",\"selector\":\".EfDVh wDYxhc NFQFxe\"}\n  (Session info: chrome=122.0.6261.129); For documentation on this error, please visit: https://www.selenium.dev/documentation/webdriver/troubleshooting/errors#no-such-element-exception\nStacktrace:\n\tGetHandleVerifier [0x00007FF613A1AD02+56930]\n\t(No symbol) [0x00007FF61398F602]\n\t(No symbol) [0x00007FF6138442E5]\n\t(No symbol) [0x00007FF6138898ED]\n\t(No symbol) [0x00007FF613889A2C]\n\t(No symbol) [0x00007FF6138CA967]\n\t(No symbol) [0x00007FF6138ABCDF]\n\t(No symbol) [0x00007FF6138C81E2]\n\t(No symbol) [0x00007FF6138ABA43]\n\t(No symbol) [0x00007FF61387D438]\n\t(No symbol) [0x00007FF61387E4D1]\n\tGetHandleVerifier [0x00007FF613D96F8D+3711213]\n\tGetHandleVerifier [0x00007FF613DF04CD+4077101]\n\tGetHandleVerifier [0x00007FF613DE865F+4044735]\n\tGetHandleVerifier [0x00007FF613AB9736+706710]\n\t(No symbol) [0x00007FF61399B8DF]\n\t(No symbol) [0x00007FF613996AC4]\n\t(No symbol) [0x00007FF613996C1C]\n\t(No symbol) [0x00007FF6139868D4]\n\tBaseThreadInitThunk [0x00007FFD78AF257D+29]\n\tRtlUserThreadStart [0x00007FFD7984AF08+40]\n",
     "output_type": "error",
     "traceback": [
      "\u001b[1;31m---------------------------------------------------------------------------\u001b[0m",
      "\u001b[1;31mNoSuchElementException\u001b[0m                    Traceback (most recent call last)",
      "Cell \u001b[1;32mIn[41], line 15\u001b[0m\n\u001b[0;32m     12\u001b[0m driver\u001b[38;5;241m.\u001b[39mfind_element(\u001b[38;5;124m\"\u001b[39m\u001b[38;5;124mcss selector\u001b[39m\u001b[38;5;124m\"\u001b[39m, \u001b[38;5;124m\"\u001b[39m\u001b[38;5;124m#akp_tsuid_13 > div > div:nth-child(1) > div > g-sticky-content-container > div > block-component > div > div.dG2XIf.knowledge-panel.Wnoohf.OJXvsb > div > div > div > div.ifM9O > div > div > div.hjPqT4GkFUQ__expanded > div.AfIYPc > g-sticky-content > div > div.YoOupc.UxY8gd.E0kSRb.xSizI > g-tabs > div > div > a.zzG8g.QmGLUd.kvxLRc\u001b[39m\u001b[38;5;124m\"\u001b[39m)\u001b[38;5;241m.\u001b[39mclick()\n\u001b[0;32m     13\u001b[0m sleep(\u001b[38;5;241m5\u001b[39m)\n\u001b[1;32m---> 15\u001b[0m elemento_desplazable \u001b[38;5;241m=\u001b[39m \u001b[43mdriver\u001b[49m\u001b[38;5;241;43m.\u001b[39;49m\u001b[43mfind_element\u001b[49m\u001b[43m(\u001b[49m\u001b[43mBy\u001b[49m\u001b[38;5;241;43m.\u001b[39;49m\u001b[43mCLASS_NAME\u001b[49m\u001b[43m,\u001b[49m\u001b[43m \u001b[49m\u001b[38;5;124;43m\"\u001b[39;49m\u001b[38;5;124;43mEfDVh wDYxhc NFQFxe\u001b[39;49m\u001b[38;5;124;43m\"\u001b[39;49m\u001b[43m)\u001b[49m\n\u001b[0;32m     17\u001b[0m \u001b[38;5;66;03m# Realizar el scroll hacia abajo dentro de ese elemento\u001b[39;00m\n\u001b[0;32m     18\u001b[0m driver\u001b[38;5;241m.\u001b[39mexecute_script(\u001b[38;5;124m\"\u001b[39m\u001b[38;5;124marguments[0].scrollTop = arguments[0].scrollHeight\u001b[39m\u001b[38;5;124m\"\u001b[39m, elemento_desplazable)\n",
      "File \u001b[1;32m~\\AppData\\Local\\Packages\\PythonSoftwareFoundation.Python.3.11_qbz5n2kfra8p0\\LocalCache\\local-packages\\Python311\\site-packages\\selenium\\webdriver\\remote\\webdriver.py:741\u001b[0m, in \u001b[0;36mWebDriver.find_element\u001b[1;34m(self, by, value)\u001b[0m\n\u001b[0;32m    738\u001b[0m     by \u001b[38;5;241m=\u001b[39m By\u001b[38;5;241m.\u001b[39mCSS_SELECTOR\n\u001b[0;32m    739\u001b[0m     value \u001b[38;5;241m=\u001b[39m \u001b[38;5;124mf\u001b[39m\u001b[38;5;124m'\u001b[39m\u001b[38;5;124m[name=\u001b[39m\u001b[38;5;124m\"\u001b[39m\u001b[38;5;132;01m{\u001b[39;00mvalue\u001b[38;5;132;01m}\u001b[39;00m\u001b[38;5;124m\"\u001b[39m\u001b[38;5;124m]\u001b[39m\u001b[38;5;124m'\u001b[39m\n\u001b[1;32m--> 741\u001b[0m \u001b[38;5;28;01mreturn\u001b[39;00m \u001b[38;5;28;43mself\u001b[39;49m\u001b[38;5;241;43m.\u001b[39;49m\u001b[43mexecute\u001b[49m\u001b[43m(\u001b[49m\u001b[43mCommand\u001b[49m\u001b[38;5;241;43m.\u001b[39;49m\u001b[43mFIND_ELEMENT\u001b[49m\u001b[43m,\u001b[49m\u001b[43m \u001b[49m\u001b[43m{\u001b[49m\u001b[38;5;124;43m\"\u001b[39;49m\u001b[38;5;124;43musing\u001b[39;49m\u001b[38;5;124;43m\"\u001b[39;49m\u001b[43m:\u001b[49m\u001b[43m \u001b[49m\u001b[43mby\u001b[49m\u001b[43m,\u001b[49m\u001b[43m \u001b[49m\u001b[38;5;124;43m\"\u001b[39;49m\u001b[38;5;124;43mvalue\u001b[39;49m\u001b[38;5;124;43m\"\u001b[39;49m\u001b[43m:\u001b[49m\u001b[43m \u001b[49m\u001b[43mvalue\u001b[49m\u001b[43m}\u001b[49m\u001b[43m)\u001b[49m[\u001b[38;5;124m\"\u001b[39m\u001b[38;5;124mvalue\u001b[39m\u001b[38;5;124m\"\u001b[39m]\n",
      "File \u001b[1;32m~\\AppData\\Local\\Packages\\PythonSoftwareFoundation.Python.3.11_qbz5n2kfra8p0\\LocalCache\\local-packages\\Python311\\site-packages\\selenium\\webdriver\\remote\\webdriver.py:347\u001b[0m, in \u001b[0;36mWebDriver.execute\u001b[1;34m(self, driver_command, params)\u001b[0m\n\u001b[0;32m    345\u001b[0m response \u001b[38;5;241m=\u001b[39m \u001b[38;5;28mself\u001b[39m\u001b[38;5;241m.\u001b[39mcommand_executor\u001b[38;5;241m.\u001b[39mexecute(driver_command, params)\n\u001b[0;32m    346\u001b[0m \u001b[38;5;28;01mif\u001b[39;00m response:\n\u001b[1;32m--> 347\u001b[0m     \u001b[38;5;28;43mself\u001b[39;49m\u001b[38;5;241;43m.\u001b[39;49m\u001b[43merror_handler\u001b[49m\u001b[38;5;241;43m.\u001b[39;49m\u001b[43mcheck_response\u001b[49m\u001b[43m(\u001b[49m\u001b[43mresponse\u001b[49m\u001b[43m)\u001b[49m\n\u001b[0;32m    348\u001b[0m     response[\u001b[38;5;124m\"\u001b[39m\u001b[38;5;124mvalue\u001b[39m\u001b[38;5;124m\"\u001b[39m] \u001b[38;5;241m=\u001b[39m \u001b[38;5;28mself\u001b[39m\u001b[38;5;241m.\u001b[39m_unwrap_value(response\u001b[38;5;241m.\u001b[39mget(\u001b[38;5;124m\"\u001b[39m\u001b[38;5;124mvalue\u001b[39m\u001b[38;5;124m\"\u001b[39m, \u001b[38;5;28;01mNone\u001b[39;00m))\n\u001b[0;32m    349\u001b[0m     \u001b[38;5;28;01mreturn\u001b[39;00m response\n",
      "File \u001b[1;32m~\\AppData\\Local\\Packages\\PythonSoftwareFoundation.Python.3.11_qbz5n2kfra8p0\\LocalCache\\local-packages\\Python311\\site-packages\\selenium\\webdriver\\remote\\errorhandler.py:229\u001b[0m, in \u001b[0;36mErrorHandler.check_response\u001b[1;34m(self, response)\u001b[0m\n\u001b[0;32m    227\u001b[0m         alert_text \u001b[38;5;241m=\u001b[39m value[\u001b[38;5;124m\"\u001b[39m\u001b[38;5;124malert\u001b[39m\u001b[38;5;124m\"\u001b[39m]\u001b[38;5;241m.\u001b[39mget(\u001b[38;5;124m\"\u001b[39m\u001b[38;5;124mtext\u001b[39m\u001b[38;5;124m\"\u001b[39m)\n\u001b[0;32m    228\u001b[0m     \u001b[38;5;28;01mraise\u001b[39;00m exception_class(message, screen, stacktrace, alert_text)  \u001b[38;5;66;03m# type: ignore[call-arg]  # mypy is not smart enough here\u001b[39;00m\n\u001b[1;32m--> 229\u001b[0m \u001b[38;5;28;01mraise\u001b[39;00m exception_class(message, screen, stacktrace)\n",
      "\u001b[1;31mNoSuchElementException\u001b[0m: Message: no such element: Unable to locate element: {\"method\":\"css selector\",\"selector\":\".EfDVh wDYxhc NFQFxe\"}\n  (Session info: chrome=122.0.6261.129); For documentation on this error, please visit: https://www.selenium.dev/documentation/webdriver/troubleshooting/errors#no-such-element-exception\nStacktrace:\n\tGetHandleVerifier [0x00007FF613A1AD02+56930]\n\t(No symbol) [0x00007FF61398F602]\n\t(No symbol) [0x00007FF6138442E5]\n\t(No symbol) [0x00007FF6138898ED]\n\t(No symbol) [0x00007FF613889A2C]\n\t(No symbol) [0x00007FF6138CA967]\n\t(No symbol) [0x00007FF6138ABCDF]\n\t(No symbol) [0x00007FF6138C81E2]\n\t(No symbol) [0x00007FF6138ABA43]\n\t(No symbol) [0x00007FF61387D438]\n\t(No symbol) [0x00007FF61387E4D1]\n\tGetHandleVerifier [0x00007FF613D96F8D+3711213]\n\tGetHandleVerifier [0x00007FF613DF04CD+4077101]\n\tGetHandleVerifier [0x00007FF613DE865F+4044735]\n\tGetHandleVerifier [0x00007FF613AB9736+706710]\n\t(No symbol) [0x00007FF61399B8DF]\n\t(No symbol) [0x00007FF613996AC4]\n\t(No symbol) [0x00007FF613996C1C]\n\t(No symbol) [0x00007FF6139868D4]\n\tBaseThreadInitThunk [0x00007FFD78AF257D+29]\n\tRtlUserThreadStart [0x00007FFD7984AF08+40]\n"
     ]
    }
   ],
   "source": [
    "driver = webdriver.Chrome()\n",
    "url = \"https://www.google.com/search?sca_esv=fa65bd0a363ad061&rlz=1C1ONGR_esES972ES972&tbm=lcl&sxsrf=ADLYWIJU0vsXxB_LbbnS1qBwmMSie5B69w:1730990879393&q=Parafina+-+Gafas+Ecol%C3%B3gicas+Reviews&rflfq=1&num=20&stick=H4sIAAAAAAAAAONgkxIxNDSwNDaxNDQ1M7YwNTczsjQzsNjAyPiKUSUgsSgxLTMvUUFXwT0xLbFYwTU5P-fw5vTMZCA7KLUsM7W8eBErUcoAy-vpg2kAAAA&rldimm=11093491563857629608&hl=en-ES&sa=X&ved=2ahUKEwjzxubDu8qJAxXQUqQEHQt2LJcQ9fQKegQIQBAF&biw=1536&bih=695&dpr=1.25#lkt=LocalPoiReviews&topic=mid:/m/01d_1l\"\n",
    "driver.get(url)\n",
    "driver.maximize_window()\n",
    "sleep(1)\n",
    "\n",
    "#Rechazo las cookies\n",
    "driver.find_element(\"css selector\", \"#yDmH0d > c-wiz > div > div > div > div.NIoIEf > div.G4njw > div.AIC7ge > div.CxJub > div.VtwTSb > form:nth-child(1) > div > div > button\").click()\n",
    "sleep(3)\n",
    "\n",
    "# Pincho en reviews\n",
    "driver.find_element(\"css selector\", \"#akp_tsuid_13 > div > div:nth-child(1) > div > g-sticky-content-container > div > block-component > div > div.dG2XIf.knowledge-panel.Wnoohf.OJXvsb > div > div > div > div.ifM9O > div > div > div.hjPqT4GkFUQ__expanded > div.AfIYPc > g-sticky-content > div > div.YoOupc.UxY8gd.E0kSRb.xSizI > g-tabs > div > div > a.zzG8g.QmGLUd.kvxLRc\").click()\n",
    "sleep(5)\n",
    "\n",
    "elemento_desplazable = driver.find_element(By.CLASS_NAME, \"EfDVh wDYxhc NFQFxe\")\n",
    "\n",
    "# Realizar el scroll hacia abajo dentro de ese elemento\n",
    "driver.execute_script(\"arguments[0].scrollTop = arguments[0].scrollHeight\", elemento_desplazable)\n",
    "\n",
    "\n",
    "# #Pincho en all reviews\n",
    "# driver.find_element(\"css selector\", \"#RegsZ82NDK7wi-gP-LXm2A0__25 > div.EfDVh.wDYxhc.NFQFxe > c-wiz > div > div:nth-child(2) > span > div\").click()\n",
    "# sleep(5)\n",
    "\n",
    "# elementos_reviews = [elem.text for elem in driver.find_elements(By.CLASS_NAME, 'bwb7ce')]\n"
   ]
  },
  {
   "cell_type": "code",
   "execution_count": 35,
   "metadata": {},
   "outputs": [
    {
     "data": {
      "text/plain": [
       "[\"HOLLY\\nLocal Guide·58 reviews·8 photos\\na year ago\\nI came to Madrid especially to buy sunglasses today, I arrive during its advertised opening hours and it's closed. Very disappointed, not very professional.\",\n",
       " 'Netta R.\\nLocal Guide·94 reviews·140 photos\\n3 years ago\\nLove my screen glasses and the concept of this brand!\\nParafina - Gafas Ecológicas (owner)\\n3 years ago\\nEnjoy them and thank you very much for trusting us!',\n",
       " 'Juan Alemán\\nLocal Guide·58 reviews·20 photos\\n7 months ago\\n\\nI bought glasses from this brand at El Corte Inglés, and after a few months stains began to appear on the lenses, making it difficult to see.\\nAt first, neither the store nor the brand took responsibility for the defect. …More\\nTranslated by Google·See original (Spanish)\\nParafina - Gafas Ecológicas (owner)\\n7 months ago\\n\\nGood afternoon Juan, thank you very much for your comment.\\nIn these cases, by El Corte Inglés policy, they must be in charge of replacing the product, and in the event of a claim, proof of purchase is required, which can be requested from El Corte Inglés customer service.\\nTranslated by Google·See original (Spanish)']"
      ]
     },
     "execution_count": 35,
     "metadata": {},
     "output_type": "execute_result"
    }
   ],
   "source": [
    "#kd8sZ-qjH6bXhbIPxOSZUA__25 > div.EfDVh.wDYxhc.NFQFxe > c-wiz > div\n",
    "elementos_reviews"
   ]
  },
  {
   "cell_type": "code",
   "execution_count": null,
   "metadata": {},
   "outputs": [],
   "source": []
  }
 ],
 "metadata": {
  "kernelspec": {
   "display_name": "Python 3",
   "language": "python",
   "name": "python3"
  },
  "language_info": {
   "codemirror_mode": {
    "name": "ipython",
    "version": 3
   },
   "file_extension": ".py",
   "mimetype": "text/x-python",
   "name": "python",
   "nbconvert_exporter": "python",
   "pygments_lexer": "ipython3",
   "version": "3.11.9"
  }
 },
 "nbformat": 4,
 "nbformat_minor": 2
}
