{
 "cells": [
  {
   "cell_type": "code",
   "execution_count": 3,
   "metadata": {},
   "outputs": [],
   "source": [
    "import sys\n",
    "sys.path.append(\"../\")\n",
    "import src.soporte_extraccion as se\n",
    "import os\n",
    "from dotenv import load_dotenv\n",
    "load_dotenv()\n",
    "import pandas as pd"
   ]
  },
  {
   "cell_type": "code",
   "execution_count": null,
   "metadata": {},
   "outputs": [
    {
     "name": "stdout",
     "output_type": "stream",
     "text": [
      "Carpeta encontrada: Hackio Data+Mkt (ID: 12AEHKlJ0Zjo8CDidWQs0Bjbz3B7V9EzI)\n",
      "Spreadsheet ID: 1cHprYBaT_yc-CeHKp8qwpqsr8Tf0lbfb95uVUIbaVwQ\n",
      "El archivo ha sido movido a la carpeta con ID: 12AEHKlJ0Zjo8CDidWQs0Bjbz3B7V9EzI\n",
      "384 celdas actualizadas.\n"
     ]
    },
    {
     "data": {
      "text/plain": [
       "'https://docs.google.com/spreadsheets/d/1cHprYBaT_yc-CeHKp8qwpqsr8Tf0lbfb95uVUIbaVwQ'"
      ]
     },
     "execution_count": 6,
     "metadata": {},
     "output_type": "execute_result"
    }
   ],
   "source": [
    "nombre = \"df_parafina_final\"\n",
    "df = pd.read_csv(f\"../datos/{nombre}.csv\", index_col=0)\n",
    "url_archivo = se.crear_gsheet(nombre, df)\n",
    "url_archivo"
   ]
  }
 ],
 "metadata": {
  "kernelspec": {
   "display_name": "Python 3",
   "language": "python",
   "name": "python3"
  },
  "language_info": {
   "codemirror_mode": {
    "name": "ipython",
    "version": 3
   },
   "file_extension": ".py",
   "mimetype": "text/x-python",
   "name": "python",
   "nbconvert_exporter": "python",
   "pygments_lexer": "ipython3",
   "version": "3.12.6"
  }
 },
 "nbformat": 4,
 "nbformat_minor": 2
}
