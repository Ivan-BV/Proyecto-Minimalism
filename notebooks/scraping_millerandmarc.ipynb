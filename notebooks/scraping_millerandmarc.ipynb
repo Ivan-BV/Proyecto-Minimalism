{
 "cells": [
  {
   "cell_type": "code",
   "execution_count": null,
   "metadata": {},
   "outputs": [],
   "source": [
    "from selenium import webdriver\n",
    "from selenium.webdriver.common.by import By\n",
    "from selenium.webdriver.chrome.service import Service\n",
    "from selenium.webdriver.common.keys import Keys\n",
    "from selenium.webdriver.support.ui import WebDriverWait\n",
    "from selenium.webdriver.support import expected_conditions as EC\n",
    "from selenium.webdriver.chrome.options import Options\n",
    "from tqdm import tqdm\n",
    "from time import sleep\n",
    "from bs4 import BeautifulSoup\n",
    "import requests\n",
    "import pandas as pd"
   ]
  },
  {
   "cell_type": "code",
   "execution_count": null,
   "metadata": {},
   "outputs": [],
   "source": [
    "url_gafas_sol = \"https://www.millerandmarc.com/collections/sol\"\n",
    "\n",
    "dicc = {\"nombre\": [],\n",
    "        \"precio\": [],\n",
    "        \"color\": []}\n",
    "lista_colores = [\"black\", \"brown\", \"grey\"]\n",
    "try:\n",
    "    for color in tqdm(lista_colores):\n",
    "        driver = webdriver.Chrome()\n",
    "        driver.get(url_gafas_sol)\n",
    "        driver.implicitly_wait(10)\n",
    "        driver.maximize_window()\n",
    "        driver.execute_script(\"window.scrollBy(0, 600);\")\n",
    "        sleep(0.5)\n",
    "        if color == \"black\":\n",
    "            driver.find_element(By.XPATH, \"//*[@id='gf-tree']/div[3]/div[4]/div[2]/div/ul/li[1]/button\").click()\n",
    "        elif color == \"brown\":\n",
    "            driver.find_element(By.XPATH, \"//*[@id='gf-tree']/div[3]/div[4]/div[2]/div/ul/li[3]/button\").click()\n",
    "        elif color == \"grey\":\n",
    "            driver.find_element(By.XPATH, \"//*[@id='gf-tree']/div[3]/div[4]/div[2]/div/ul/li[7]/button\").click()\n",
    "        sleep(0.5)\n",
    "        contenedor_productos = WebDriverWait(driver, 10).until(\n",
    "        EC.presence_of_element_located((By.XPATH, \"//*[@id='gf-products']\"))\n",
    "        )\n",
    "        sleep(0.5)\n",
    "        productos = contenedor_productos.find_elements(By.XPATH, \".//a[contains(@class, 'spf-product-card__image-wrapper') and contains(@class, 'hover-effect')]\")\n",
    "        urls_productos = [producto.get_attribute(\"href\") for producto in productos]\n",
    "        sleep(0.5)\n",
    "        for url in urls_productos:\n",
    "            driver.get(url)\n",
    "            sleep(0.5)\n",
    "            nombre = driver.find_element(By.XPATH, \"//*[@id='xtitle']/h1\").text\n",
    "            precio = driver.find_element(By.XPATH, \"//*[@id='price-template--23785914040706__main']/div/div/div[1]/span[2]\").text\n",
    "            color_gafas = driver.find_element(By.XPATH, \"//*[@id='MainProduct-template--23785914040706__main']/x-grid/x-cell[3]/product-content/section[4]/div/div/div[2]/div/legend/span\").text\n",
    "            dicc[\"nombre\"].append(nombre)\n",
    "            dicc[\"precio\"].append(precio)\n",
    "            dicc[\"color\"].append(color_gafas)\n",
    "        driver.close()\n",
    "except:\n",
    "    print(\"Error al encontrar el archivo\")\n"
   ]
  },
  {
   "cell_type": "code",
   "execution_count": null,
   "metadata": {},
   "outputs": [],
   "source": [
    "df = pd.DataFrame(dicc)\n",
    "df[\"precio\"] = df[\"precio\"].str.replace(\"€\", \"\").astype(float)\n",
    "df"
   ]
  },
  {
   "cell_type": "code",
   "execution_count": null,
   "metadata": {},
   "outputs": [],
   "source": [
    "df.to_csv(\"../datos/df_millerandmarc.csv\")"
   ]
  }
 ],
 "metadata": {
  "kernelspec": {
   "display_name": "Python 3",
   "language": "python",
   "name": "python3"
  },
  "language_info": {
   "codemirror_mode": {
    "name": "ipython",
    "version": 3
   },
   "file_extension": ".py",
   "mimetype": "text/x-python",
   "name": "python",
   "nbconvert_exporter": "python",
   "pygments_lexer": "ipython3",
   "version": "3.12.6"
  }
 },
 "nbformat": 4,
 "nbformat_minor": 2
}
